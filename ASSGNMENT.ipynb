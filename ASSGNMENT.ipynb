{
 "cells": [
  {
   "cell_type": "markdown",
   "metadata": {},
   "source": [
    "# What will be the population after 10 years?"
   ]
  },
  {
   "cell_type": "code",
   "execution_count": 1,
   "metadata": {},
   "outputs": [
    {
     "name": "stdout",
     "output_type": "stream",
     "text": [
      "The population after 10 years will be approximately: 5384689\n"
     ]
    }
   ],
   "source": [
    "current_population = 4644384\n",
    "growth_rate = 0.0149\n",
    "years = 10\n",
    "\n",
    "future_population_10_years = current_population * (1 + growth_rate) ** years\n",
    "print(f\"The population after 10 years will be approximately: {int(future_population_10_years)}\")"
   ]
  },
  {
   "cell_type": "markdown",
   "metadata": {},
   "source": [
    "# What will be the population in 2040?"
   ]
  },
  {
   "cell_type": "code",
   "execution_count": 2,
   "metadata": {},
   "outputs": [
    {
     "name": "stdout",
     "output_type": "stream",
     "text": [
      "The population in 2040 will be approximately: 5972049\n"
     ]
    }
   ],
   "source": [
    "current_year = 2023\n",
    "target_year = 2040\n",
    "years_to_2040 = target_year - current_year\n",
    "\n",
    "future_population_2040 = current_population * (1 + growth_rate) ** years_to_2040\n",
    "print(f\"The population in 2040 will be approximately: {int(future_population_2040)}\")"
   ]
  },
  {
   "cell_type": "markdown",
   "metadata": {},
   "source": [
    "# In what year will the population become more than 6 million?\n",
    "\n"
   ]
  },
  {
   "cell_type": "code",
   "execution_count": 3,
   "metadata": {},
   "outputs": [
    {
     "name": "stdout",
     "output_type": "stream",
     "text": [
      "The population will become more than 6 million around the year: 2041\n"
     ]
    }
   ],
   "source": [
    "target_population = 6000000\n",
    "\n",
    "# Solve for the number of years required to reach the target population\n",
    "import math\n",
    "required_years = math.ceil(math.log(target_population / current_population) / math.log(1 + growth_rate))\n",
    "\n",
    "# Calculate the year\n",
    "target_year = current_year + required_years\n",
    "print(f\"The population will become more than 6 million around the year: {target_year}\")"
   ]
  },
  {
   "cell_type": "markdown",
   "metadata": {},
   "source": [
    "# What will be the balance after 2 years?"
   ]
  },
  {
   "cell_type": "code",
   "execution_count": 4,
   "metadata": {},
   "outputs": [
    {
     "name": "stdout",
     "output_type": "stream",
     "text": [
      "The balance after 2 years will be approximately: OMR 1071.22\n"
     ]
    }
   ],
   "source": [
    "initial_balance = 1000\n",
    "interest_rate = 0.035\n",
    "years_a = 2\n",
    "\n",
    "future_balance_a = initial_balance * (1 + interest_rate) ** years_a\n",
    "print(f\"The balance after 2 years will be approximately: OMR {future_balance_a:.2f}\")"
   ]
  },
  {
   "cell_type": "markdown",
   "metadata": {},
   "source": [
    "# How many years are needed to have a balance of OMR 2000?\n",
    "\n"
   ]
  },
  {
   "cell_type": "code",
   "execution_count": 5,
   "metadata": {},
   "outputs": [
    {
     "name": "stdout",
     "output_type": "stream",
     "text": [
      "To have a balance of OMR 2000, it will take approximately 21 years.\n"
     ]
    }
   ],
   "source": [
    "target_balance_b = 2000\n",
    "years_b = 0\n",
    "\n",
    "while initial_balance * (1 + interest_rate) ** years_b < target_balance_b:\n",
    "    years_b += 1\n",
    "\n",
    "print(f\"To have a balance of OMR {target_balance_b}, it will take approximately {years_b} years.\")"
   ]
  }
 ],
 "metadata": {
  "kernelspec": {
   "display_name": "Python 3",
   "language": "python",
   "name": "python3"
  },
  "language_info": {
   "codemirror_mode": {
    "name": "ipython",
    "version": 3
   },
   "file_extension": ".py",
   "mimetype": "text/x-python",
   "name": "python",
   "nbconvert_exporter": "python",
   "pygments_lexer": "ipython3",
   "version": "3.10.13"
  }
 },
 "nbformat": 4,
 "nbformat_minor": 2
}
